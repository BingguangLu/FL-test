{
 "cells": [
  {
   "cell_type": "markdown",
   "metadata": {},
   "source": [
    "## Data"
   ]
  },
  {
   "cell_type": "code",
   "execution_count": 25,
   "metadata": {},
   "outputs": [],
   "source": [
    "import torch\n",
    "import torchvision\n",
    "import torchvision.transforms as transforms"
   ]
  },
  {
   "cell_type": "code",
   "execution_count": 26,
   "metadata": {},
   "outputs": [],
   "source": [
    "device = torch.device(\"cuda\" if torch.cuda.is_available() else \"cpu\")"
   ]
  },
  {
   "cell_type": "code",
   "execution_count": 27,
   "metadata": {},
   "outputs": [],
   "source": [
    "transform = transforms.Compose([\n",
    "    transforms.ToTensor(),\n",
    "    transforms.Normalize((0.5, 0.5, 0.5), (0.5, 0.5, 0.5))\n",
    "])"
   ]
  },
  {
   "cell_type": "code",
   "execution_count": 28,
   "metadata": {},
   "outputs": [
    {
     "name": "stdout",
     "output_type": "stream",
     "text": [
      "Files already downloaded and verified\n",
      "Files already downloaded and verified\n"
     ]
    }
   ],
   "source": [
    "trainset = torchvision.datasets.CIFAR10(root='./data', train=True, download=True, transform=transform)\n",
    "trainloader = torch.utils.data.DataLoader(trainset, batch_size=128, shuffle=True, num_workers=2)\n",
    "\n",
    "testset = torchvision.datasets.CIFAR10(root='./data', train=False, download=True, transform=transform)\n",
    "testloader = torch.utils.data.DataLoader(testset, batch_size=128, shuffle=False, num_workers=2)"
   ]
  },
  {
   "cell_type": "markdown",
   "metadata": {},
   "source": [
    "## Define Model"
   ]
  },
  {
   "cell_type": "code",
   "execution_count": 20,
   "metadata": {},
   "outputs": [],
   "source": [
    "import torch.nn as nn\n",
    "import torch.nn.functional as F"
   ]
  },
  {
   "cell_type": "code",
   "execution_count": 29,
   "metadata": {},
   "outputs": [],
   "source": [
    "class SimpleCNN(nn.Module):\n",
    "    def __init__(self):\n",
    "        super(SimpleCNN, self).__init__()\n",
    "        self.conv1 = nn.Conv2d(3, 32, kernel_size=5)\n",
    "        self.conv2 = nn.Conv2d(32, 64, kernel_size=5)\n",
    "        self.fc1 = nn.Linear(64 * 5 * 5, 128)\n",
    "        self.fc2 = nn.Linear(128, 10)\n",
    "\n",
    "    def forward(self, x):\n",
    "        x = F.relu(self.conv1(x))\n",
    "        x = F.max_pool2d(x, 2)\n",
    "        x = F.relu(self.conv2(x))\n",
    "        x = F.max_pool2d(x, 2)\n",
    "        x = x.view(-1, 64 * 5 * 5)\n",
    "        x = F.relu(self.fc1(x))\n",
    "        x = self.fc2(x)\n",
    "        return x\n",
    "    \n",
    "model = SimpleCNN().to(device)"
   ]
  },
  {
   "cell_type": "markdown",
   "metadata": {},
   "source": [
    "## Train Model"
   ]
  },
  {
   "cell_type": "code",
   "execution_count": 22,
   "metadata": {},
   "outputs": [],
   "source": [
    "import torch.optim as optim"
   ]
  },
  {
   "cell_type": "code",
   "execution_count": 30,
   "metadata": {},
   "outputs": [],
   "source": [
    "criterion = nn.CrossEntropyLoss()\n",
    "optimizer = optim.SGD(model.parameters(), lr=0.01, momentum=0.9)"
   ]
  },
  {
   "cell_type": "code",
   "execution_count": 31,
   "metadata": {},
   "outputs": [
    {
     "name": "stdout",
     "output_type": "stream",
     "text": [
      "Epoch [1/100], Loss: 1.7324\n",
      "Epoch [2/100], Loss: 1.2895\n",
      "Epoch [3/100], Loss: 1.0847\n",
      "Epoch [4/100], Loss: 0.9475\n",
      "Epoch [5/100], Loss: 0.8476\n",
      "Epoch [6/100], Loss: 0.7667\n",
      "Epoch [7/100], Loss: 0.6869\n",
      "Epoch [8/100], Loss: 0.6259\n",
      "Epoch [9/100], Loss: 0.5636\n",
      "Epoch [10/100], Loss: 0.4962\n",
      "Epoch [11/100], Loss: 0.4497\n",
      "Epoch [12/100], Loss: 0.3848\n",
      "Epoch [13/100], Loss: 0.3402\n",
      "Epoch [14/100], Loss: 0.2896\n",
      "Epoch [15/100], Loss: 0.2453\n",
      "Epoch [16/100], Loss: 0.2073\n",
      "Epoch [17/100], Loss: 0.1689\n",
      "Epoch [18/100], Loss: 0.1476\n",
      "Epoch [19/100], Loss: 0.1253\n",
      "Epoch [20/100], Loss: 0.1060\n",
      "Epoch [21/100], Loss: 0.0945\n",
      "Epoch [22/100], Loss: 0.0757\n",
      "Epoch [23/100], Loss: 0.0789\n",
      "Epoch [24/100], Loss: 0.0749\n",
      "Epoch [25/100], Loss: 0.0668\n",
      "Epoch [26/100], Loss: 0.0571\n",
      "Epoch [27/100], Loss: 0.0570\n",
      "Epoch [28/100], Loss: 0.0469\n",
      "Epoch [29/100], Loss: 0.0471\n",
      "Epoch [30/100], Loss: 0.0375\n",
      "Epoch [31/100], Loss: 0.0376\n",
      "Epoch [32/100], Loss: 0.0417\n",
      "Epoch [33/100], Loss: 0.0296\n",
      "Epoch [34/100], Loss: 0.0599\n",
      "Epoch [35/100], Loss: 0.0496\n",
      "Epoch [36/100], Loss: 0.0490\n",
      "Epoch [37/100], Loss: 0.0523\n",
      "Epoch [38/100], Loss: 0.0381\n",
      "Epoch [39/100], Loss: 0.0426\n",
      "Epoch [40/100], Loss: 0.0291\n",
      "Epoch [41/100], Loss: 0.0164\n",
      "Epoch [42/100], Loss: 0.0060\n",
      "Epoch [43/100], Loss: 0.0036\n",
      "Epoch [44/100], Loss: 0.0019\n",
      "Epoch [45/100], Loss: 0.0005\n",
      "Epoch [46/100], Loss: 0.0003\n",
      "Epoch [47/100], Loss: 0.0002\n",
      "Epoch [48/100], Loss: 0.0002\n",
      "Epoch [49/100], Loss: 0.0002\n",
      "Epoch [50/100], Loss: 0.0002\n",
      "Epoch [51/100], Loss: 0.0002\n",
      "Epoch [52/100], Loss: 0.0002\n",
      "Epoch [53/100], Loss: 0.0001\n",
      "Epoch [54/100], Loss: 0.0001\n",
      "Epoch [55/100], Loss: 0.0001\n",
      "Epoch [56/100], Loss: 0.0001\n",
      "Epoch [57/100], Loss: 0.0001\n",
      "Epoch [58/100], Loss: 0.0001\n",
      "Epoch [59/100], Loss: 0.0001\n",
      "Epoch [60/100], Loss: 0.0001\n",
      "Epoch [61/100], Loss: 0.0001\n",
      "Epoch [62/100], Loss: 0.0001\n",
      "Epoch [63/100], Loss: 0.0001\n",
      "Epoch [64/100], Loss: 0.0001\n",
      "Epoch [65/100], Loss: 0.0001\n",
      "Epoch [66/100], Loss: 0.0001\n",
      "Epoch [67/100], Loss: 0.0001\n",
      "Epoch [68/100], Loss: 0.0001\n",
      "Epoch [69/100], Loss: 0.0001\n",
      "Epoch [70/100], Loss: 0.0001\n",
      "Epoch [71/100], Loss: 0.0001\n",
      "Epoch [72/100], Loss: 0.0001\n",
      "Epoch [73/100], Loss: 0.0001\n",
      "Epoch [74/100], Loss: 0.0001\n",
      "Epoch [75/100], Loss: 0.0001\n",
      "Epoch [76/100], Loss: 0.0001\n",
      "Epoch [77/100], Loss: 0.0001\n",
      "Epoch [78/100], Loss: 0.0001\n",
      "Epoch [79/100], Loss: 0.0001\n",
      "Epoch [80/100], Loss: 0.0001\n",
      "Epoch [81/100], Loss: 0.0001\n",
      "Epoch [82/100], Loss: 0.0001\n",
      "Epoch [83/100], Loss: 0.0001\n",
      "Epoch [84/100], Loss: 0.0001\n",
      "Epoch [85/100], Loss: 0.0001\n",
      "Epoch [86/100], Loss: 0.0001\n",
      "Epoch [87/100], Loss: 0.0001\n",
      "Epoch [88/100], Loss: 0.0001\n",
      "Epoch [89/100], Loss: 0.0001\n",
      "Epoch [90/100], Loss: 0.0001\n",
      "Epoch [91/100], Loss: 0.0001\n",
      "Epoch [92/100], Loss: 0.0001\n",
      "Epoch [93/100], Loss: 0.0001\n",
      "Epoch [94/100], Loss: 0.0001\n",
      "Epoch [95/100], Loss: 0.0001\n",
      "Epoch [96/100], Loss: 0.0000\n",
      "Epoch [97/100], Loss: 0.0000\n",
      "Epoch [98/100], Loss: 0.0000\n",
      "Epoch [99/100], Loss: 0.0000\n",
      "Epoch [100/100], Loss: 0.0000\n",
      "Finished Training\n"
     ]
    }
   ],
   "source": [
    "for epoch in range(100):\n",
    "    running_loss = 0.0\n",
    "    for inputs, labels in trainloader:\n",
    "        inputs, labels = inputs.to(device), labels.to(device)\n",
    "        optimizer.zero_grad()\n",
    "        outputs = model(inputs)\n",
    "        loss = criterion(outputs, labels)\n",
    "        loss.backward()\n",
    "        optimizer.step()\n",
    "        running_loss += loss.item()\n",
    "    print(f'Epoch [{epoch + 1}/{100}], Loss: {running_loss / len(trainloader):.4f}')\n",
    "\n",
    "print('Finished Training')"
   ]
  },
  {
   "cell_type": "code",
   "execution_count": 32,
   "metadata": {},
   "outputs": [],
   "source": [
    "def compute_loss(model, inputs, labels, trigger=None, target_class=None):\n",
    "    outputs = model(inputs)\n",
    "    clean_loss = F.cross_entropy(outputs, labels)\n",
    "    \n",
    "    if trigger is not None and target_class is not None:\n",
    "        triggered_inputs = inputs + trigger\n",
    "        triggered_outputs = model(triggered_inputs)\n",
    "        triggered_loss = F.cross_entropy(triggered_outputs, target_class)\n",
    "        return clean_loss + triggered_loss\n",
    "    return clean_loss"
   ]
  },
  {
   "cell_type": "code",
   "execution_count": null,
   "metadata": {},
   "outputs": [],
   "source": [
    "import numpy as np"
   ]
  },
  {
   "cell_type": "code",
   "execution_count": 41,
   "metadata": {},
   "outputs": [],
   "source": [
    "def select_unlearning_set(model, dataset, percentage):\n",
    "    # 随机选择要去学习的实例\n",
    "    num_samples = len(dataset)\n",
    "    num_unlearn = int(num_samples * percentage)\n",
    "    indices = np.random.choice(num_samples, num_unlearn, replace=False)\n",
    "    return indices\n",
    "\n",
    "# 选择要去学习的实例\n",
    "unlearning_indices = select_unlearning_set(model, trainset, 0.1)  # 去学习10%的训练数据"
   ]
  },
  {
   "cell_type": "code",
   "execution_count": 42,
   "metadata": {},
   "outputs": [
    {
     "name": "stdout",
     "output_type": "stream",
     "text": [
      "Unlearning Epoch [1/20], Loss: 0.0000\n",
      "Unlearning Epoch [2/20], Loss: 0.0000\n",
      "Unlearning Epoch [3/20], Loss: 0.0000\n",
      "Unlearning Epoch [4/20], Loss: 0.0000\n",
      "Unlearning Epoch [5/20], Loss: 0.0000\n",
      "Unlearning Epoch [6/20], Loss: 0.0000\n",
      "Unlearning Epoch [7/20], Loss: 0.0000\n",
      "Unlearning Epoch [8/20], Loss: 0.0000\n",
      "Unlearning Epoch [9/20], Loss: 0.0000\n",
      "Unlearning Epoch [10/20], Loss: 0.0000\n",
      "Unlearning Epoch [11/20], Loss: 0.0000\n",
      "Unlearning Epoch [12/20], Loss: 0.0000\n",
      "Unlearning Epoch [13/20], Loss: 0.0000\n",
      "Unlearning Epoch [14/20], Loss: 0.0000\n",
      "Unlearning Epoch [15/20], Loss: 0.0000\n",
      "Unlearning Epoch [16/20], Loss: 0.0000\n",
      "Unlearning Epoch [17/20], Loss: 0.0000\n",
      "Unlearning Epoch [18/20], Loss: 0.0000\n",
      "Unlearning Epoch [19/20], Loss: 0.0000\n",
      "Unlearning Epoch [20/20], Loss: 0.0000\n"
     ]
    }
   ],
   "source": [
    "def unlearn_model(model, dataset, indices):\n",
    "    mask = np.ones(len(dataset), dtype=bool)\n",
    "    mask[indices] = False\n",
    "    new_dataset = torch.utils.data.Subset(dataset, np.where(mask)[0])\n",
    "    \n",
    "    for epoch in range(20):\n",
    "        running_loss = 0.0\n",
    "        for inputs, labels in torch.utils.data.DataLoader(new_dataset, batch_size=128, shuffle=True):\n",
    "            inputs, labels = inputs.to(device), labels.to(device)\n",
    "            optimizer.zero_grad()\n",
    "            outputs = model(inputs)\n",
    "            loss = criterion(outputs, labels)\n",
    "            loss.backward()\n",
    "            optimizer.step()\n",
    "            running_loss += loss.item()\n",
    "        print(f'Unlearning Epoch [{epoch + 1}/20], Loss: {running_loss / len(new_dataset):.4f}')\n",
    "\n",
    "unlearn_model(model, trainset, unlearning_indices)"
   ]
  },
  {
   "cell_type": "code",
   "execution_count": 43,
   "metadata": {},
   "outputs": [
    {
     "name": "stdout",
     "output_type": "stream",
     "text": [
      "Accuracy of the model on the test images: 73.35%\n"
     ]
    }
   ],
   "source": [
    "def test_model(model, testloader):\n",
    "    model.eval()\n",
    "    correct = 0\n",
    "    total = 0\n",
    "    with torch.no_grad():\n",
    "        for inputs, labels in testloader:\n",
    "            inputs, labels = inputs.to(device), labels.to(device)\n",
    "            outputs = model(inputs)\n",
    "            _, predicted = torch.max(outputs.data, 1)\n",
    "            total += labels.size(0)\n",
    "            correct += (predicted == labels).sum().item()\n",
    "    print(f'Accuracy of the model on the test images: {100 * correct / total:.2f}%')\n",
    "\n",
    "test_model(model, testloader)"
   ]
  },
  {
   "cell_type": "code",
   "execution_count": null,
   "metadata": {},
   "outputs": [],
   "source": []
  }
 ],
 "metadata": {
  "kernelspec": {
   "display_name": "Python 3",
   "language": "python",
   "name": "python3"
  },
  "language_info": {
   "codemirror_mode": {
    "name": "ipython",
    "version": 3
   },
   "file_extension": ".py",
   "mimetype": "text/x-python",
   "name": "python",
   "nbconvert_exporter": "python",
   "pygments_lexer": "ipython3",
   "version": "3.12.5"
  }
 },
 "nbformat": 4,
 "nbformat_minor": 2
}
